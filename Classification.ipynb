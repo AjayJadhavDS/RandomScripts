{
 "cells": [
  {
   "cell_type": "code",
   "execution_count": 1,
   "metadata": {},
   "outputs": [],
   "source": [
    "import pandas as pd\n",
    "\n",
    "df = pd.read_excel(\"C:/Users/ajjadhav/Downloads/SampleData For Agency Emailsxlsx.xlsx\",\n",
    "                   sheet_name='SampleData',\n",
    "                   skiprows=1)\n",
    "\n",
    "df.drop('Unnamed: 0',axis=1,inplace=True)"
   ]
  },
  {
   "cell_type": "code",
   "execution_count": 2,
   "metadata": {},
   "outputs": [
    {
     "data": {
      "text/html": [
       "<div>\n",
       "<style scoped>\n",
       "    .dataframe tbody tr th:only-of-type {\n",
       "        vertical-align: middle;\n",
       "    }\n",
       "\n",
       "    .dataframe tbody tr th {\n",
       "        vertical-align: top;\n",
       "    }\n",
       "\n",
       "    .dataframe thead th {\n",
       "        text-align: right;\n",
       "    }\n",
       "</style>\n",
       "<table border=\"1\" class=\"dataframe\">\n",
       "  <thead>\n",
       "    <tr style=\"text-align: right;\">\n",
       "      <th></th>\n",
       "      <th>FIRST_NAME</th>\n",
       "      <th>LAST_NAME</th>\n",
       "      <th>NEW_CONTACT_METHOD_VALUE</th>\n",
       "      <th>ID</th>\n",
       "      <th>CONCAT_REVERSENAME</th>\n",
       "      <th>CONCAT_NAME</th>\n",
       "      <th>USERNAME</th>\n",
       "      <th>DOMAIN</th>\n",
       "      <th>IS_AGENCY</th>\n",
       "      <th>FU_NAME</th>\n",
       "      <th>...</th>\n",
       "      <th>RESULT</th>\n",
       "      <th>FU_REVERSE</th>\n",
       "      <th>FU_AGENCY</th>\n",
       "      <th>FD_GENERALDOMAIN</th>\n",
       "      <th>FD_AGENCY</th>\n",
       "      <th>FU_HIGHESTSCORE</th>\n",
       "      <th>FU_HIGHESTITEM</th>\n",
       "      <th>NAMECOUNT</th>\n",
       "      <th>MANUALCHECK</th>\n",
       "      <th>SAMPLECOUNT</th>\n",
       "    </tr>\n",
       "  </thead>\n",
       "  <tbody>\n",
       "    <tr>\n",
       "      <th>0</th>\n",
       "      <td>AHMED</td>\n",
       "      <td>ALBANNA</td>\n",
       "      <td>184169799@BEESAVEBUNNY.FUN</td>\n",
       "      <td>84260631</td>\n",
       "      <td>ALBANNAAHMED</td>\n",
       "      <td>NaN</td>\n",
       "      <td>NaN</td>\n",
       "      <td>BEESAVEBUNNY</td>\n",
       "      <td>NaN</td>\n",
       "      <td>NaN</td>\n",
       "      <td>...</td>\n",
       "      <td>NaN</td>\n",
       "      <td>NaN</td>\n",
       "      <td>NaN</td>\n",
       "      <td>NaN</td>\n",
       "      <td>NaN</td>\n",
       "      <td>NaN</td>\n",
       "      <td>NaN</td>\n",
       "      <td>1</td>\n",
       "      <td>P</td>\n",
       "      <td>1</td>\n",
       "    </tr>\n",
       "    <tr>\n",
       "      <th>1</th>\n",
       "      <td>KORHAN</td>\n",
       "      <td>YAVUZ</td>\n",
       "      <td>ACIL@ETUR.COM.TR</td>\n",
       "      <td>6589374</td>\n",
       "      <td>YAVUZKORHAN</td>\n",
       "      <td>NaN</td>\n",
       "      <td>ACIL</td>\n",
       "      <td>ETUR</td>\n",
       "      <td>T</td>\n",
       "      <td>22.0</td>\n",
       "      <td>...</td>\n",
       "      <td>NaN</td>\n",
       "      <td>22.0</td>\n",
       "      <td>67.0</td>\n",
       "      <td>68.0</td>\n",
       "      <td>86.0</td>\n",
       "      <td>NaN</td>\n",
       "      <td>NaN</td>\n",
       "      <td>3610</td>\n",
       "      <td>T</td>\n",
       "      <td>1</td>\n",
       "    </tr>\n",
       "    <tr>\n",
       "      <th>2</th>\n",
       "      <td>SERDAR</td>\n",
       "      <td>BERBER</td>\n",
       "      <td>ACIL@ETUR.COM.TR</td>\n",
       "      <td>14661069</td>\n",
       "      <td>BERBERSERDAR</td>\n",
       "      <td>NaN</td>\n",
       "      <td>ACIL</td>\n",
       "      <td>ETUR</td>\n",
       "      <td>T</td>\n",
       "      <td>22.0</td>\n",
       "      <td>...</td>\n",
       "      <td>NaN</td>\n",
       "      <td>22.0</td>\n",
       "      <td>67.0</td>\n",
       "      <td>68.0</td>\n",
       "      <td>86.0</td>\n",
       "      <td>NaN</td>\n",
       "      <td>NaN</td>\n",
       "      <td>3610</td>\n",
       "      <td>T</td>\n",
       "      <td>2</td>\n",
       "    </tr>\n",
       "    <tr>\n",
       "      <th>3</th>\n",
       "      <td>CEMALETTIN</td>\n",
       "      <td>GOCMEN</td>\n",
       "      <td>ACIL@ETUR.COM.TR</td>\n",
       "      <td>2193172</td>\n",
       "      <td>GOCMENCEMALETTIN</td>\n",
       "      <td>NaN</td>\n",
       "      <td>ACIL</td>\n",
       "      <td>ETUR</td>\n",
       "      <td>T</td>\n",
       "      <td>45.0</td>\n",
       "      <td>...</td>\n",
       "      <td>NaN</td>\n",
       "      <td>45.0</td>\n",
       "      <td>67.0</td>\n",
       "      <td>68.0</td>\n",
       "      <td>86.0</td>\n",
       "      <td>NaN</td>\n",
       "      <td>NaN</td>\n",
       "      <td>3610</td>\n",
       "      <td>T</td>\n",
       "      <td>3</td>\n",
       "    </tr>\n",
       "    <tr>\n",
       "      <th>4</th>\n",
       "      <td>LEZAN</td>\n",
       "      <td>TANAL</td>\n",
       "      <td>ACIL@ETUR.COM.TR</td>\n",
       "      <td>8158799</td>\n",
       "      <td>TANALLEZAN</td>\n",
       "      <td>NaN</td>\n",
       "      <td>ACIL</td>\n",
       "      <td>ETUR</td>\n",
       "      <td>T</td>\n",
       "      <td>22.0</td>\n",
       "      <td>...</td>\n",
       "      <td>NaN</td>\n",
       "      <td>45.0</td>\n",
       "      <td>67.0</td>\n",
       "      <td>68.0</td>\n",
       "      <td>86.0</td>\n",
       "      <td>NaN</td>\n",
       "      <td>NaN</td>\n",
       "      <td>3610</td>\n",
       "      <td>T</td>\n",
       "      <td>4</td>\n",
       "    </tr>\n",
       "  </tbody>\n",
       "</table>\n",
       "<p>5 rows × 22 columns</p>\n",
       "</div>"
      ],
      "text/plain": [
       "   FIRST_NAME LAST_NAME    NEW_CONTACT_METHOD_VALUE        ID  \\\n",
       "0       AHMED   ALBANNA  184169799@BEESAVEBUNNY.FUN  84260631   \n",
       "1      KORHAN     YAVUZ            ACIL@ETUR.COM.TR   6589374   \n",
       "2      SERDAR    BERBER            ACIL@ETUR.COM.TR  14661069   \n",
       "3  CEMALETTIN    GOCMEN            ACIL@ETUR.COM.TR   2193172   \n",
       "4       LEZAN     TANAL            ACIL@ETUR.COM.TR   8158799   \n",
       "\n",
       "  CONCAT_REVERSENAME  CONCAT_NAME USERNAME        DOMAIN IS_AGENCY  FU_NAME  \\\n",
       "0       ALBANNAAHMED          NaN      NaN  BEESAVEBUNNY       NaN      NaN   \n",
       "1        YAVUZKORHAN          NaN     ACIL          ETUR         T     22.0   \n",
       "2       BERBERSERDAR          NaN     ACIL          ETUR         T     22.0   \n",
       "3   GOCMENCEMALETTIN          NaN     ACIL          ETUR         T     45.0   \n",
       "4         TANALLEZAN          NaN     ACIL          ETUR         T     22.0   \n",
       "\n",
       "   ...  RESULT  FU_REVERSE  FU_AGENCY  FD_GENERALDOMAIN  FD_AGENCY  \\\n",
       "0  ...     NaN         NaN        NaN               NaN        NaN   \n",
       "1  ...     NaN        22.0       67.0              68.0       86.0   \n",
       "2  ...     NaN        22.0       67.0              68.0       86.0   \n",
       "3  ...     NaN        45.0       67.0              68.0       86.0   \n",
       "4  ...     NaN        45.0       67.0              68.0       86.0   \n",
       "\n",
       "   FU_HIGHESTSCORE  FU_HIGHESTITEM  NAMECOUNT  MANUALCHECK  SAMPLECOUNT  \n",
       "0              NaN             NaN          1            P            1  \n",
       "1              NaN             NaN       3610            T            1  \n",
       "2              NaN             NaN       3610            T            2  \n",
       "3              NaN             NaN       3610            T            3  \n",
       "4              NaN             NaN       3610            T            4  \n",
       "\n",
       "[5 rows x 22 columns]"
      ]
     },
     "execution_count": 2,
     "metadata": {},
     "output_type": "execute_result"
    }
   ],
   "source": [
    "df.head()"
   ]
  },
  {
   "cell_type": "code",
   "execution_count": 3,
   "metadata": {},
   "outputs": [
    {
     "data": {
      "text/plain": [
       "(1170, 22)"
      ]
     },
     "execution_count": 3,
     "metadata": {},
     "output_type": "execute_result"
    }
   ],
   "source": [
    "df.shape"
   ]
  },
  {
   "cell_type": "code",
   "execution_count": 4,
   "metadata": {},
   "outputs": [
    {
     "name": "stderr",
     "output_type": "stream",
     "text": [
      "<ipython-input-4-2785a9c8eaed>:1: SettingWithCopyWarning: \n",
      "A value is trying to be set on a copy of a slice from a DataFrame\n",
      "\n",
      "See the caveats in the documentation: https://pandas.pydata.org/pandas-docs/stable/user_guide/indexing.html#returning-a-view-versus-a-copy\n",
      "  df.IS_AGENCY[df.IS_AGENCY != 'T'] = 'F'\n"
     ]
    }
   ],
   "source": [
    "df.IS_AGENCY[df.IS_AGENCY != 'T'] = 'F'"
   ]
  },
  {
   "cell_type": "code",
   "execution_count": 5,
   "metadata": {},
   "outputs": [
    {
     "data": {
      "text/plain": [
       "<matplotlib.axes._subplots.AxesSubplot at 0x225b063c8b0>"
      ]
     },
     "execution_count": 5,
     "metadata": {},
     "output_type": "execute_result"
    },
    {
     "data": {
      "image/png": "[encoded data removed]",
      "text/plain": [
       "<Figure size 432x288 with 1 Axes>"
      ]
     },
     "metadata": {
      "needs_background": "light"
     },
     "output_type": "display_data"
    }
   ],
   "source": [
    "df.IS_AGENCY.value_counts().plot(kind='bar')"
   ]
  },
  {
   "cell_type": "code",
   "execution_count": 6,
   "metadata": {},
   "outputs": [],
   "source": [
    "categorical_columns = ['FIRST_NAME', 'LAST_NAME', 'NEW_CONTACT_METHOD_VALUE','CONCAT_REVERSENAME', \n",
    "                       'USERNAME', 'DOMAIN','MANUALCHECK']\n",
    "\n",
    "numerical_columns = ['FU_NAME', 'FU_SURNAME', 'FU_FULLNAME', 'RESULT', 'FU_REVERSE',\n",
    "       'FU_AGENCY', 'FD_GENERALDOMAIN', 'FD_AGENCY', 'NAMECOUNT', 'MANUALCHECK']\n",
    "\n",
    "\n",
    "\n",
    "from sklearn import preprocessing\n",
    "le = preprocessing.LabelEncoder()\n",
    "\n",
    "for i in categorical_columns:\n",
    "    df[i] = le.fit_transform(df[i])\n"
   ]
  },
  {
   "cell_type": "code",
   "execution_count": 7,
   "metadata": {},
   "outputs": [],
   "source": [
    "newdf = df[categorical_columns + numerical_columns]"
   ]
  },
  {
   "cell_type": "code",
   "execution_count": 8,
   "metadata": {},
   "outputs": [
    {
     "name": "stderr",
     "output_type": "stream",
     "text": [
      "<ipython-input-8-d185c6244406>:1: SettingWithCopyWarning: \n",
      "A value is trying to be set on a copy of a slice from a DataFrame.\n",
      "Try using .loc[row_indexer,col_indexer] = value instead\n",
      "\n",
      "See the caveats in the documentation: https://pandas.pydata.org/pandas-docs/stable/user_guide/indexing.html#returning-a-view-versus-a-copy\n",
      "  newdf['IS_AGENCY'] = df.IS_AGENCY\n"
     ]
    }
   ],
   "source": [
    "newdf['IS_AGENCY'] = df.IS_AGENCY"
   ]
  },
  {
   "cell_type": "code",
   "execution_count": 9,
   "metadata": {},
   "outputs": [
    {
     "name": "stderr",
     "output_type": "stream",
     "text": [
      "C:\\Users\\ajjadhav\\Anaconda3\\lib\\site-packages\\pandas\\core\\frame.py:5176: SettingWithCopyWarning: \n",
      "A value is trying to be set on a copy of a slice from a DataFrame\n",
      "\n",
      "See the caveats in the documentation: https://pandas.pydata.org/pandas-docs/stable/user_guide/indexing.html#returning-a-view-versus-a-copy\n",
      "  return super().fillna(\n"
     ]
    }
   ],
   "source": [
    "newdf.fillna(0,inplace = True)"
   ]
  },
  {
   "cell_type": "code",
   "execution_count": 10,
   "metadata": {},
   "outputs": [
    {
     "name": "stderr",
     "output_type": "stream",
     "text": [
      "<ipython-input-10-c3f7845554ec>:1: SettingWithCopyWarning: \n",
      "A value is trying to be set on a copy of a slice from a DataFrame.\n",
      "Try using .loc[row_indexer,col_indexer] = value instead\n",
      "\n",
      "See the caveats in the documentation: https://pandas.pydata.org/pandas-docs/stable/user_guide/indexing.html#returning-a-view-versus-a-copy\n",
      "  newdf['IS_AGENCY'] = [1 if x == 'T' else 0 for x in newdf['IS_AGENCY']]\n"
     ]
    }
   ],
   "source": [
    "newdf['IS_AGENCY'] = [1 if x == 'T' else 0 for x in newdf['IS_AGENCY']]"
   ]
  },
  {
   "cell_type": "code",
   "execution_count": 11,
   "metadata": {},
   "outputs": [],
   "source": [
    "from sklearn.model_selection import train_test_split\n",
    "\n",
    "X_train, X_test, y_train, y_test = train_test_split(\n",
    "    newdf.drop('IS_AGENCY',axis=1), newdf['IS_AGENCY'], test_size=0.33, random_state=42)"
   ]
  },
  {
   "cell_type": "code",
   "execution_count": 12,
   "metadata": {},
   "outputs": [],
   "source": [
    "from sklearn.ensemble import RandomForestClassifier"
   ]
  },
  {
   "cell_type": "code",
   "execution_count": 13,
   "metadata": {},
   "outputs": [],
   "source": [
    "finalCols = ['FIRST_NAME', 'LAST_NAME', 'NEW_CONTACT_METHOD_VALUE',\n",
    "       'CONCAT_REVERSENAME', 'USERNAME', 'DOMAIN', 'MANUALCHECK', 'FU_NAME',\n",
    "       'FU_SURNAME', 'FU_FULLNAME', 'RESULT', 'FU_REVERSE', 'FU_AGENCY',\n",
    "       'FD_GENERALDOMAIN', 'FD_AGENCY', 'NAMECOUNT', 'MANUALCHECK']"
   ]
  },
  {
   "cell_type": "code",
   "execution_count": 14,
   "metadata": {},
   "outputs": [],
   "source": [
    "rf = RandomForestClassifier()\n",
    "rf.fit(X_train[finalCols],y_train)\n",
    "\n",
    "y_pred = rf.predict(X_test[finalCols])"
   ]
  },
  {
   "cell_type": "code",
   "execution_count": 15,
   "metadata": {},
   "outputs": [
    {
     "data": {
      "text/plain": [
       "0.9870801033591732"
      ]
     },
     "execution_count": 15,
     "metadata": {},
     "output_type": "execute_result"
    }
   ],
   "source": [
    "from sklearn.metrics import accuracy_score, confusion_matrix\n",
    "\n",
    "accuracy_score(y_test,y_pred)"
   ]
  },
  {
   "cell_type": "code",
   "execution_count": 16,
   "metadata": {},
   "outputs": [
    {
     "data": {
      "text/plain": [
       "array([[319,   4],\n",
       "       [  1,  63]], dtype=int64)"
      ]
     },
     "execution_count": 16,
     "metadata": {},
     "output_type": "execute_result"
    }
   ],
   "source": [
    "confusion_matrix(y_test,y_pred)"
   ]
  },
  {
   "cell_type": "code",
   "execution_count": null,
   "metadata": {},
   "outputs": [],
   "source": []
  }
 ],
 "metadata": {
  "kernelspec": {
   "display_name": "Python 3",
   "language": "python",
   "name": "python3"
  },
  "language_info": {
   "codemirror_mode": {
    "name": "ipython",
    "version": 3
   },
   "file_extension": ".py",
   "mimetype": "text/x-python",
   "name": "python",
   "nbconvert_exporter": "python",
   "pygments_lexer": "ipython3",
   "version": "3.8.3"
  }
 },
 "nbformat": 4,
 "nbformat_minor": 4
}
