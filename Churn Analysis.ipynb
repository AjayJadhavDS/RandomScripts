{
 "cells": [
  {
   "cell_type": "code",
   "execution_count": 114,
   "metadata": {},
   "outputs": [],
   "source": [
    "# Library for Visulaization\n",
    "import matplotlib.pyplot as plt\n",
    "%matplotlib inline"
   ]
  },
  {
   "cell_type": "code",
   "execution_count": 115,
   "metadata": {},
   "outputs": [],
   "source": [
    "# Pandas library for data load and data slicing\n",
    "import pandas as pd\n",
    "df = pd.read_csv(\"ds_churn_test_data.csv\")"
   ]
  },
  {
   "cell_type": "code",
   "execution_count": 116,
   "metadata": {},
   "outputs": [
    {
     "data": {
      "text/plain": [
       "(10000, 13)"
      ]
     },
     "execution_count": 116,
     "metadata": {},
     "output_type": "execute_result"
    }
   ],
   "source": [
    "# Data Dimesion\n",
    "df.shape"
   ]
  },
  {
   "cell_type": "code",
   "execution_count": 117,
   "metadata": {},
   "outputs": [
    {
     "data": {
      "text/html": [
       "<div>\n",
       "<style scoped>\n",
       "    .dataframe tbody tr th:only-of-type {\n",
       "        vertical-align: middle;\n",
       "    }\n",
       "\n",
       "    .dataframe tbody tr th {\n",
       "        vertical-align: top;\n",
       "    }\n",
       "\n",
       "    .dataframe thead th {\n",
       "        text-align: right;\n",
       "    }\n",
       "</style>\n",
       "<table border=\"1\" class=\"dataframe\">\n",
       "  <thead>\n",
       "    <tr style=\"text-align: right;\">\n",
       "      <th></th>\n",
       "      <th>USER_TYPE</th>\n",
       "      <th>MEMBER_TYPE</th>\n",
       "      <th>MEMBER_LEVEL</th>\n",
       "      <th>BASIC_LEVEL</th>\n",
       "      <th>SPENDING_LIMIT</th>\n",
       "      <th>NUM_ORDERS</th>\n",
       "      <th>NUM_ITEMS</th>\n",
       "      <th>TOTAL_SPEND</th>\n",
       "      <th>FIRST_ORDER_DATE</th>\n",
       "      <th>MOST_RECENT_ORDER_DATE</th>\n",
       "      <th>NUM_OFFERS_USED</th>\n",
       "      <th>NUM_FAILED_ORDERS</th>\n",
       "      <th>CHURNED</th>\n",
       "    </tr>\n",
       "  </thead>\n",
       "  <tbody>\n",
       "    <tr>\n",
       "      <th>0</th>\n",
       "      <td>20_ANNUAL_ST</td>\n",
       "      <td>ANNUAL STANDARD</td>\n",
       "      <td>ANNUAL</td>\n",
       "      <td>ANNUAL</td>\n",
       "      <td>100</td>\n",
       "      <td>19</td>\n",
       "      <td>77</td>\n",
       "      <td>794.06</td>\n",
       "      <td>18/02/2019 04:31</td>\n",
       "      <td>24/09/2020 00:09</td>\n",
       "      <td>69</td>\n",
       "      <td>0</td>\n",
       "      <td>False</td>\n",
       "    </tr>\n",
       "    <tr>\n",
       "      <th>1</th>\n",
       "      <td>30_MONTH_UP_150</td>\n",
       "      <td>MONTHLY UPGRADED 150</td>\n",
       "      <td>MONTHLY_UP</td>\n",
       "      <td>UPGRADE</td>\n",
       "      <td>150</td>\n",
       "      <td>28</td>\n",
       "      <td>56</td>\n",
       "      <td>555.09</td>\n",
       "      <td>27/04/2019 20:40</td>\n",
       "      <td>13/09/2020 14:54</td>\n",
       "      <td>56</td>\n",
       "      <td>2</td>\n",
       "      <td>False</td>\n",
       "    </tr>\n",
       "    <tr>\n",
       "      <th>2</th>\n",
       "      <td>10_MONTH_MINI</td>\n",
       "      <td>MONTHLY MINI</td>\n",
       "      <td>MONTHLY</td>\n",
       "      <td>MONTHLY</td>\n",
       "      <td>50</td>\n",
       "      <td>8</td>\n",
       "      <td>16</td>\n",
       "      <td>127.73</td>\n",
       "      <td>02/06/2020 18:12</td>\n",
       "      <td>04/10/2020 08:16</td>\n",
       "      <td>16</td>\n",
       "      <td>0</td>\n",
       "      <td>False</td>\n",
       "    </tr>\n",
       "    <tr>\n",
       "      <th>3</th>\n",
       "      <td>12_MONTH_STANDARD</td>\n",
       "      <td>MONTHLY STANDARD</td>\n",
       "      <td>MONTHLY</td>\n",
       "      <td>MONTHLY</td>\n",
       "      <td>100</td>\n",
       "      <td>34</td>\n",
       "      <td>81</td>\n",
       "      <td>534.55</td>\n",
       "      <td>27/03/2019 13:29</td>\n",
       "      <td>29/09/2020 23:34</td>\n",
       "      <td>80</td>\n",
       "      <td>0</td>\n",
       "      <td>False</td>\n",
       "    </tr>\n",
       "    <tr>\n",
       "      <th>4</th>\n",
       "      <td>12_MONTH_STANDARD</td>\n",
       "      <td>MONTHLY STANDARD</td>\n",
       "      <td>MONTHLY</td>\n",
       "      <td>MONTHLY</td>\n",
       "      <td>100</td>\n",
       "      <td>6</td>\n",
       "      <td>11</td>\n",
       "      <td>105.80</td>\n",
       "      <td>02/05/2020 15:19</td>\n",
       "      <td>02/10/2020 17:16</td>\n",
       "      <td>11</td>\n",
       "      <td>0</td>\n",
       "      <td>False</td>\n",
       "    </tr>\n",
       "  </tbody>\n",
       "</table>\n",
       "</div>"
      ],
      "text/plain": [
       "           USER_TYPE           MEMBER_TYPE MEMBER_LEVEL BASIC_LEVEL  \\\n",
       "0       20_ANNUAL_ST       ANNUAL STANDARD       ANNUAL      ANNUAL   \n",
       "1    30_MONTH_UP_150  MONTHLY UPGRADED 150   MONTHLY_UP     UPGRADE   \n",
       "2      10_MONTH_MINI          MONTHLY MINI      MONTHLY     MONTHLY   \n",
       "3  12_MONTH_STANDARD      MONTHLY STANDARD      MONTHLY     MONTHLY   \n",
       "4  12_MONTH_STANDARD      MONTHLY STANDARD      MONTHLY     MONTHLY   \n",
       "\n",
       "   SPENDING_LIMIT  NUM_ORDERS  NUM_ITEMS  TOTAL_SPEND  FIRST_ORDER_DATE  \\\n",
       "0             100          19         77       794.06  18/02/2019 04:31   \n",
       "1             150          28         56       555.09  27/04/2019 20:40   \n",
       "2              50           8         16       127.73  02/06/2020 18:12   \n",
       "3             100          34         81       534.55  27/03/2019 13:29   \n",
       "4             100           6         11       105.80  02/05/2020 15:19   \n",
       "\n",
       "  MOST_RECENT_ORDER_DATE  NUM_OFFERS_USED  NUM_FAILED_ORDERS  CHURNED  \n",
       "0       24/09/2020 00:09               69                  0    False  \n",
       "1       13/09/2020 14:54               56                  2    False  \n",
       "2       04/10/2020 08:16               16                  0    False  \n",
       "3       29/09/2020 23:34               80                  0    False  \n",
       "4       02/10/2020 17:16               11                  0    False  "
      ]
     },
     "execution_count": 117,
     "metadata": {},
     "output_type": "execute_result"
    }
   ],
   "source": [
    "# Data Snippet\n",
    "df.head()"
   ]
  },
  {
   "cell_type": "code",
   "execution_count": 118,
   "metadata": {},
   "outputs": [
    {
     "data": {
      "image/png": "[encoded data removed]",
      "text/plain": [
       "<Figure size 432x288 with 1 Axes>"
      ]
     },
     "metadata": {
      "needs_background": "light"
     },
     "output_type": "display_data"
    }
   ],
   "source": [
    "# Check for the imbalance dataset, By plotting Distribution\n",
    "\n",
    "ax = df.CHURNED.value_counts().plot(kind='bar',title='Imbalance dataset')\n",
    "ax.set( ylabel='Count')\n",
    "plt.show()"
   ]
  },
  {
   "cell_type": "code",
   "execution_count": 119,
   "metadata": {},
   "outputs": [
    {
     "data": {
      "text/plain": [
       "USER_TYPE                 0\n",
       "MEMBER_TYPE               0\n",
       "MEMBER_LEVEL              0\n",
       "BASIC_LEVEL               0\n",
       "SPENDING_LIMIT            0\n",
       "NUM_ORDERS                0\n",
       "NUM_ITEMS                 0\n",
       "TOTAL_SPEND               0\n",
       "FIRST_ORDER_DATE          0\n",
       "MOST_RECENT_ORDER_DATE    0\n",
       "NUM_OFFERS_USED           0\n",
       "NUM_FAILED_ORDERS         0\n",
       "CHURNED                   0\n",
       "dtype: int64"
      ]
     },
     "execution_count": 119,
     "metadata": {},
     "output_type": "execute_result"
    }
   ],
   "source": [
    "# checking the NULL counts\n",
    "\n",
    "df.isnull().sum(axis = 0)"
   ]
  },
  {
   "cell_type": "code",
   "execution_count": 120,
   "metadata": {},
   "outputs": [
    {
     "data": {
      "text/plain": [
       "<matplotlib.axes._subplots.AxesSubplot at 0x1aa52a68430>"
      ]
     },
     "execution_count": 120,
     "metadata": {},
     "output_type": "execute_result"
    },
    {
     "data": {
      "image/png": "[encoded data removed]",
      "text/plain": [
       "<Figure size 576x576 with 1 Axes>"
      ]
     },
     "metadata": {
      "needs_background": "light"
     },
     "output_type": "display_data"
    }
   ],
   "source": [
    "# Chart to check the Categorical Variable Member Type, How it os dependant or responsible for Customer's CHURN\n",
    "\n",
    "clarity_color_table = pd.crosstab(index=df[\"MEMBER_TYPE\"], \n",
    "                          columns=df[\"CHURNED\"])\n",
    "\n",
    "\n",
    "clarity_color_table.plot(kind=\"bar\", \n",
    "                 figsize=(8,8),\n",
    "                 stacked=True)"
   ]
  },
  {
   "cell_type": "code",
   "execution_count": 121,
   "metadata": {},
   "outputs": [
    {
     "data": {
      "text/plain": [
       "<matplotlib.axes._subplots.AxesSubplot at 0x1aa52b1c820>"
      ]
     },
     "execution_count": 121,
     "metadata": {},
     "output_type": "execute_result"
    },
    {
     "data": {
      "image/png": "[encoded data removed]",
      "text/plain": [
       "<Figure size 576x576 with 1 Axes>"
      ]
     },
     "metadata": {
      "needs_background": "light"
     },
     "output_type": "display_data"
    }
   ],
   "source": [
    "# Chcikng the dependancy check for another categorical variable USER_TYPE\n",
    "\n",
    "clarity_color_table = pd.crosstab(index=df[\"USER_TYPE\"], \n",
    "                          columns=df[\"CHURNED\"])\n",
    "\n",
    "\n",
    "clarity_color_table.plot(kind=\"bar\", \n",
    "                 figsize=(8,8),\n",
    "                 stacked=True)"
   ]
  },
  {
   "cell_type": "code",
   "execution_count": 122,
   "metadata": {},
   "outputs": [
    {
     "data": {
      "text/plain": [
       "<matplotlib.axes._subplots.AxesSubplot at 0x1aa52bc63d0>"
      ]
     },
     "execution_count": 122,
     "metadata": {},
     "output_type": "execute_result"
    },
    {
     "data": {
      "image/png": "[encoded data removed]",
      "text/plain": [
       "<Figure size 576x576 with 1 Axes>"
      ]
     },
     "metadata": {
      "needs_background": "light"
     },
     "output_type": "display_data"
    }
   ],
   "source": [
    "clarity_color_table = pd.crosstab(index=df[\"MEMBER_LEVEL\"], \n",
    "                          columns=df[\"CHURNED\"])\n",
    "\n",
    "\n",
    "clarity_color_table.plot(kind=\"bar\", \n",
    "                 figsize=(8,8),\n",
    "                 stacked=True)"
   ]
  },
  {
   "cell_type": "code",
   "execution_count": 123,
   "metadata": {},
   "outputs": [],
   "source": [
    "# Converting date features to datetime format of pandas\n",
    "\n",
    "df['FIRST_ORDER_DATE'] = pd.to_datetime(df['FIRST_ORDER_DATE'])\n",
    "df['MOST_RECENT_ORDER_DATE'] = pd.to_datetime(df['MOST_RECENT_ORDER_DATE'])"
   ]
  },
  {
   "cell_type": "code",
   "execution_count": 124,
   "metadata": {},
   "outputs": [],
   "source": [
    "# Calculating the recency of the dataset based on RFM(Recency Frequncy and Monetory Model)\n",
    "\n",
    "df['RECENCY']= df['MOST_RECENT_ORDER_DATE'] - df['FIRST_ORDER_DATE']"
   ]
  },
  {
   "cell_type": "code",
   "execution_count": 125,
   "metadata": {},
   "outputs": [],
   "source": [
    "# Converting Days to Integer\n",
    "\n",
    "df['RECENCY'] = df['RECENCY'].dt.days"
   ]
  },
  {
   "cell_type": "code",
   "execution_count": 126,
   "metadata": {},
   "outputs": [
    {
     "data": {
      "text/plain": [
       "<matplotlib.axes._subplots.AxesSubplot at 0x1aa51d26be0>"
      ]
     },
     "execution_count": 126,
     "metadata": {},
     "output_type": "execute_result"
    },
    {
     "data": {
      "image/png": "[encoded data removed]",
      "text/plain": [
       "<Figure size 432x288 with 1 Axes>"
      ]
     },
     "metadata": {
      "needs_background": "light"
     },
     "output_type": "display_data"
    }
   ],
   "source": [
    "# There is some issue in the data entry as we can see that there are some values which are negative\n",
    "\n",
    "# meaning, there are some records for which recent order date is older than first order date\n",
    "# which is impossible\n",
    "\n",
    "df['RECENCY'].plot(kind='box')"
   ]
  },
  {
   "cell_type": "code",
   "execution_count": 127,
   "metadata": {},
   "outputs": [
    {
     "data": {
      "text/plain": [
       "908"
      ]
     },
     "execution_count": 127,
     "metadata": {},
     "output_type": "execute_result"
    }
   ],
   "source": [
    "# There are 908 records where this issue is there\n",
    "\n",
    "len(df['RECENCY'][df['RECENCY']<0])"
   ]
  },
  {
   "cell_type": "code",
   "execution_count": 128,
   "metadata": {},
   "outputs": [
    {
     "name": "stdout",
     "output_type": "stream",
     "text": [
      "2.5435\n",
      "7.2165\n",
      "1.9414\n",
      "1.1148\n"
     ]
    }
   ],
   "source": [
    "# Converting categorical features to Enconding format\n",
    "\n",
    "from sklearn.preprocessing import LabelEncoder\n",
    "\n",
    "for i in df.columns[:4].values:\n",
    "    le = LabelEncoder()\n",
    "    df[i]=le.fit_transform(df[i])\n"
   ]
  },
  {
   "cell_type": "code",
   "execution_count": 129,
   "metadata": {},
   "outputs": [
    {
     "data": {
      "text/html": [
       "<div>\n",
       "<style scoped>\n",
       "    .dataframe tbody tr th:only-of-type {\n",
       "        vertical-align: middle;\n",
       "    }\n",
       "\n",
       "    .dataframe tbody tr th {\n",
       "        vertical-align: top;\n",
       "    }\n",
       "\n",
       "    .dataframe thead th {\n",
       "        text-align: right;\n",
       "    }\n",
       "</style>\n",
       "<table border=\"1\" class=\"dataframe\">\n",
       "  <thead>\n",
       "    <tr style=\"text-align: right;\">\n",
       "      <th></th>\n",
       "      <th>USER_TYPE</th>\n",
       "      <th>MEMBER_TYPE</th>\n",
       "      <th>MEMBER_LEVEL</th>\n",
       "      <th>BASIC_LEVEL</th>\n",
       "      <th>SPENDING_LIMIT</th>\n",
       "      <th>NUM_ORDERS</th>\n",
       "      <th>NUM_ITEMS</th>\n",
       "      <th>TOTAL_SPEND</th>\n",
       "      <th>FIRST_ORDER_DATE</th>\n",
       "      <th>MOST_RECENT_ORDER_DATE</th>\n",
       "      <th>NUM_OFFERS_USED</th>\n",
       "      <th>NUM_FAILED_ORDERS</th>\n",
       "      <th>CHURNED</th>\n",
       "      <th>RECENCY</th>\n",
       "    </tr>\n",
       "  </thead>\n",
       "  <tbody>\n",
       "    <tr>\n",
       "      <th>0</th>\n",
       "      <td>3</td>\n",
       "      <td>1</td>\n",
       "      <td>0</td>\n",
       "      <td>0</td>\n",
       "      <td>100</td>\n",
       "      <td>19</td>\n",
       "      <td>77</td>\n",
       "      <td>794.06</td>\n",
       "      <td>2019-02-18 04:31:00</td>\n",
       "      <td>2020-09-24 00:09:00</td>\n",
       "      <td>69</td>\n",
       "      <td>0</td>\n",
       "      <td>False</td>\n",
       "      <td>583</td>\n",
       "    </tr>\n",
       "    <tr>\n",
       "      <th>1</th>\n",
       "      <td>4</td>\n",
       "      <td>9</td>\n",
       "      <td>3</td>\n",
       "      <td>2</td>\n",
       "      <td>150</td>\n",
       "      <td>28</td>\n",
       "      <td>56</td>\n",
       "      <td>555.09</td>\n",
       "      <td>2019-04-27 20:40:00</td>\n",
       "      <td>2020-09-13 14:54:00</td>\n",
       "      <td>56</td>\n",
       "      <td>2</td>\n",
       "      <td>False</td>\n",
       "      <td>504</td>\n",
       "    </tr>\n",
       "    <tr>\n",
       "      <th>2</th>\n",
       "      <td>0</td>\n",
       "      <td>7</td>\n",
       "      <td>2</td>\n",
       "      <td>1</td>\n",
       "      <td>50</td>\n",
       "      <td>8</td>\n",
       "      <td>16</td>\n",
       "      <td>127.73</td>\n",
       "      <td>2020-02-06 18:12:00</td>\n",
       "      <td>2020-04-10 08:16:00</td>\n",
       "      <td>16</td>\n",
       "      <td>0</td>\n",
       "      <td>False</td>\n",
       "      <td>63</td>\n",
       "    </tr>\n",
       "    <tr>\n",
       "      <th>3</th>\n",
       "      <td>2</td>\n",
       "      <td>8</td>\n",
       "      <td>2</td>\n",
       "      <td>1</td>\n",
       "      <td>100</td>\n",
       "      <td>34</td>\n",
       "      <td>81</td>\n",
       "      <td>534.55</td>\n",
       "      <td>2019-03-27 13:29:00</td>\n",
       "      <td>2020-09-29 23:34:00</td>\n",
       "      <td>80</td>\n",
       "      <td>0</td>\n",
       "      <td>False</td>\n",
       "      <td>552</td>\n",
       "    </tr>\n",
       "    <tr>\n",
       "      <th>4</th>\n",
       "      <td>2</td>\n",
       "      <td>8</td>\n",
       "      <td>2</td>\n",
       "      <td>1</td>\n",
       "      <td>100</td>\n",
       "      <td>6</td>\n",
       "      <td>11</td>\n",
       "      <td>105.80</td>\n",
       "      <td>2020-02-05 15:19:00</td>\n",
       "      <td>2020-02-10 17:16:00</td>\n",
       "      <td>11</td>\n",
       "      <td>0</td>\n",
       "      <td>False</td>\n",
       "      <td>5</td>\n",
       "    </tr>\n",
       "  </tbody>\n",
       "</table>\n",
       "</div>"
      ],
      "text/plain": [
       "   USER_TYPE  MEMBER_TYPE  MEMBER_LEVEL  BASIC_LEVEL  SPENDING_LIMIT  \\\n",
       "0          3            1             0            0             100   \n",
       "1          4            9             3            2             150   \n",
       "2          0            7             2            1              50   \n",
       "3          2            8             2            1             100   \n",
       "4          2            8             2            1             100   \n",
       "\n",
       "   NUM_ORDERS  NUM_ITEMS  TOTAL_SPEND    FIRST_ORDER_DATE  \\\n",
       "0          19         77       794.06 2019-02-18 04:31:00   \n",
       "1          28         56       555.09 2019-04-27 20:40:00   \n",
       "2           8         16       127.73 2020-02-06 18:12:00   \n",
       "3          34         81       534.55 2019-03-27 13:29:00   \n",
       "4           6         11       105.80 2020-02-05 15:19:00   \n",
       "\n",
       "  MOST_RECENT_ORDER_DATE  NUM_OFFERS_USED  NUM_FAILED_ORDERS  CHURNED  RECENCY  \n",
       "0    2020-09-24 00:09:00               69                  0    False      583  \n",
       "1    2020-09-13 14:54:00               56                  2    False      504  \n",
       "2    2020-04-10 08:16:00               16                  0    False       63  \n",
       "3    2020-09-29 23:34:00               80                  0    False      552  \n",
       "4    2020-02-10 17:16:00               11                  0    False        5  "
      ]
     },
     "execution_count": 129,
     "metadata": {},
     "output_type": "execute_result"
    }
   ],
   "source": [
    "df.head()"
   ]
  },
  {
   "cell_type": "code",
   "execution_count": 130,
   "metadata": {},
   "outputs": [
    {
     "data": {
      "text/plain": [
       "Index(['USER_TYPE', 'MEMBER_TYPE', 'MEMBER_LEVEL', 'BASIC_LEVEL',\n",
       "       'SPENDING_LIMIT', 'NUM_ORDERS', 'NUM_ITEMS', 'TOTAL_SPEND',\n",
       "       'FIRST_ORDER_DATE', 'MOST_RECENT_ORDER_DATE', 'NUM_OFFERS_USED',\n",
       "       'NUM_FAILED_ORDERS', 'CHURNED', 'RECENCY'],\n",
       "      dtype='object')"
      ]
     },
     "execution_count": 130,
     "metadata": {},
     "output_type": "execute_result"
    }
   ],
   "source": [
    "df.columns"
   ]
  },
  {
   "cell_type": "code",
   "execution_count": 133,
   "metadata": {},
   "outputs": [],
   "source": [
    "le = LabelEncoder()\n",
    "le.fit(df.CHURNED)\n",
    "\n",
    "df['CHURNED'] = le.transform(df.CHURNED)"
   ]
  },
  {
   "cell_type": "code",
   "execution_count": 134,
   "metadata": {},
   "outputs": [
    {
     "data": {
      "text/plain": [
       "0    9470\n",
       "1     530\n",
       "Name: CHURNED, dtype: int64"
      ]
     },
     "execution_count": 134,
     "metadata": {},
     "output_type": "execute_result"
    }
   ],
   "source": [
    "df['CHURNED'].value_counts()"
   ]
  },
  {
   "cell_type": "code",
   "execution_count": 135,
   "metadata": {},
   "outputs": [],
   "source": [
    "# Spliting the dataset into train and test \n",
    "\n",
    "from sklearn.model_selection import train_test_split\n",
    "\n",
    "X_train, X_test, y_train, y_test = train_test_split(df[['USER_TYPE', 'MEMBER_TYPE', 'MEMBER_LEVEL', 'BASIC_LEVEL',\n",
    "                                                        'SPENDING_LIMIT', 'NUM_ORDERS', 'NUM_ITEMS', 'TOTAL_SPEND',\n",
    "                                                       'NUM_OFFERS_USED','NUM_FAILED_ORDERS','RECENCY']], df.CHURNED, test_size=0.33, random_state=42)"
   ]
  },
  {
   "cell_type": "code",
   "execution_count": 136,
   "metadata": {},
   "outputs": [],
   "source": [
    "from sklearn.ensemble import RandomForestClassifier\n",
    "rf = RandomForestClassifier()\n",
    "\n",
    "y_pred = rf.fit(X_train,y_train).predict(X_test)"
   ]
  },
  {
   "cell_type": "code",
   "execution_count": null,
   "metadata": {},
   "outputs": [],
   "source": []
  },
  {
   "cell_type": "code",
   "execution_count": 138,
   "metadata": {},
   "outputs": [
    {
     "name": "stdout",
     "output_type": "stream",
     "text": [
      "              precision    recall  f1-score   support\n",
      "\n",
      "           0       0.94      1.00      0.97      3116\n",
      "           1       0.25      0.02      0.03       184\n",
      "\n",
      "    accuracy                           0.94      3300\n",
      "   macro avg       0.60      0.51      0.50      3300\n",
      "weighted avg       0.91      0.94      0.92      3300\n",
      "\n"
     ]
    }
   ],
   "source": [
    "from sklearn.metrics import classification_report, accuracy_score, confusion_matrix\n",
    "\n",
    "print(classification_report(y_test,y_pred))"
   ]
  },
  {
   "cell_type": "code",
   "execution_count": 139,
   "metadata": {},
   "outputs": [
    {
     "name": "stdout",
     "output_type": "stream",
     "text": [
      "0.9424242424242424\n"
     ]
    }
   ],
   "source": [
    "print(accuracy_score(y_test,y_pred))"
   ]
  },
  {
   "cell_type": "code",
   "execution_count": 140,
   "metadata": {},
   "outputs": [
    {
     "name": "stdout",
     "output_type": "stream",
     "text": [
      "[[3107    9]\n",
      " [ 181    3]]\n"
     ]
    }
   ],
   "source": [
    "print(confusion_matrix(y_test,y_pred))"
   ]
  },
  {
   "cell_type": "code",
   "execution_count": 145,
   "metadata": {},
   "outputs": [],
   "source": [
    "class_count_0, class_count_1 = df['CHURNED'].value_counts()\n"
   ]
  },
  {
   "cell_type": "code",
   "execution_count": 146,
   "metadata": {},
   "outputs": [],
   "source": [
    "# Separate class\n",
    "class_0 = df[df['CHURNED'] == 0]\n",
    "class_1 = df[df['CHURNED'] == 1]"
   ]
  },
  {
   "cell_type": "code",
   "execution_count": 148,
   "metadata": {},
   "outputs": [
    {
     "name": "stdout",
     "output_type": "stream",
     "text": [
      "total class of 1 and0: 1    530\n",
      "0    530\n",
      "Name: CHURNED, dtype: int64\n"
     ]
    },
    {
     "data": {
      "text/plain": [
       "<matplotlib.axes._subplots.AxesSubplot at 0x1aa51cae7f0>"
      ]
     },
     "execution_count": 148,
     "metadata": {},
     "output_type": "execute_result"
    },
    {
     "data": {
      "image/png": "[encoded data removed]",
      "text/plain": [
       "<Figure size 432x288 with 1 Axes>"
      ]
     },
     "metadata": {
      "needs_background": "light"
     },
     "output_type": "display_data"
    }
   ],
   "source": [
    "class_0_under = class_0.sample(class_count_1)\n",
    "\n",
    "test_under = pd.concat([class_0_under, class_1], axis=0)\n",
    "\n",
    "print(\"total class of 1 and0:\",test_under['CHURNED'].value_counts())# plot the count after under-sampeling\n",
    "test_under['CHURNED'].value_counts().plot(kind='bar', title='count (target)')"
   ]
  },
  {
   "cell_type": "code",
   "execution_count": 149,
   "metadata": {},
   "outputs": [
    {
     "data": {
      "text/html": [
       "<div>\n",
       "<style scoped>\n",
       "    .dataframe tbody tr th:only-of-type {\n",
       "        vertical-align: middle;\n",
       "    }\n",
       "\n",
       "    .dataframe tbody tr th {\n",
       "        vertical-align: top;\n",
       "    }\n",
       "\n",
       "    .dataframe thead th {\n",
       "        text-align: right;\n",
       "    }\n",
       "</style>\n",
       "<table border=\"1\" class=\"dataframe\">\n",
       "  <thead>\n",
       "    <tr style=\"text-align: right;\">\n",
       "      <th></th>\n",
       "      <th>USER_TYPE</th>\n",
       "      <th>MEMBER_TYPE</th>\n",
       "      <th>MEMBER_LEVEL</th>\n",
       "      <th>BASIC_LEVEL</th>\n",
       "      <th>SPENDING_LIMIT</th>\n",
       "      <th>NUM_ORDERS</th>\n",
       "      <th>NUM_ITEMS</th>\n",
       "      <th>TOTAL_SPEND</th>\n",
       "      <th>FIRST_ORDER_DATE</th>\n",
       "      <th>MOST_RECENT_ORDER_DATE</th>\n",
       "      <th>NUM_OFFERS_USED</th>\n",
       "      <th>NUM_FAILED_ORDERS</th>\n",
       "      <th>CHURNED</th>\n",
       "      <th>RECENCY</th>\n",
       "    </tr>\n",
       "  </thead>\n",
       "  <tbody>\n",
       "    <tr>\n",
       "      <th>2050</th>\n",
       "      <td>0</td>\n",
       "      <td>7</td>\n",
       "      <td>2</td>\n",
       "      <td>1</td>\n",
       "      <td>50</td>\n",
       "      <td>30</td>\n",
       "      <td>57</td>\n",
       "      <td>340.30</td>\n",
       "      <td>2018-10-10 10:54:00</td>\n",
       "      <td>2020-09-19 22:59:00</td>\n",
       "      <td>53</td>\n",
       "      <td>0</td>\n",
       "      <td>0</td>\n",
       "      <td>710</td>\n",
       "    </tr>\n",
       "    <tr>\n",
       "      <th>2799</th>\n",
       "      <td>2</td>\n",
       "      <td>8</td>\n",
       "      <td>2</td>\n",
       "      <td>1</td>\n",
       "      <td>100</td>\n",
       "      <td>3</td>\n",
       "      <td>8</td>\n",
       "      <td>71.56</td>\n",
       "      <td>2020-03-08 19:17:00</td>\n",
       "      <td>2020-04-10 04:39:00</td>\n",
       "      <td>8</td>\n",
       "      <td>0</td>\n",
       "      <td>0</td>\n",
       "      <td>32</td>\n",
       "    </tr>\n",
       "    <tr>\n",
       "      <th>7974</th>\n",
       "      <td>2</td>\n",
       "      <td>8</td>\n",
       "      <td>2</td>\n",
       "      <td>1</td>\n",
       "      <td>100</td>\n",
       "      <td>7</td>\n",
       "      <td>16</td>\n",
       "      <td>128.18</td>\n",
       "      <td>2020-11-04 13:25:00</td>\n",
       "      <td>2020-11-09 15:06:00</td>\n",
       "      <td>15</td>\n",
       "      <td>0</td>\n",
       "      <td>0</td>\n",
       "      <td>5</td>\n",
       "    </tr>\n",
       "    <tr>\n",
       "      <th>462</th>\n",
       "      <td>6</td>\n",
       "      <td>10</td>\n",
       "      <td>3</td>\n",
       "      <td>2</td>\n",
       "      <td>200</td>\n",
       "      <td>17</td>\n",
       "      <td>59</td>\n",
       "      <td>772.00</td>\n",
       "      <td>2020-03-19 14:51:00</td>\n",
       "      <td>2020-05-10 10:50:00</td>\n",
       "      <td>59</td>\n",
       "      <td>6</td>\n",
       "      <td>0</td>\n",
       "      <td>51</td>\n",
       "    </tr>\n",
       "    <tr>\n",
       "      <th>6823</th>\n",
       "      <td>2</td>\n",
       "      <td>8</td>\n",
       "      <td>2</td>\n",
       "      <td>1</td>\n",
       "      <td>100</td>\n",
       "      <td>51</td>\n",
       "      <td>118</td>\n",
       "      <td>1072.47</td>\n",
       "      <td>2017-08-27 11:07:00</td>\n",
       "      <td>2020-09-29 20:02:00</td>\n",
       "      <td>116</td>\n",
       "      <td>0</td>\n",
       "      <td>0</td>\n",
       "      <td>1129</td>\n",
       "    </tr>\n",
       "    <tr>\n",
       "      <th>...</th>\n",
       "      <td>...</td>\n",
       "      <td>...</td>\n",
       "      <td>...</td>\n",
       "      <td>...</td>\n",
       "      <td>...</td>\n",
       "      <td>...</td>\n",
       "      <td>...</td>\n",
       "      <td>...</td>\n",
       "      <td>...</td>\n",
       "      <td>...</td>\n",
       "      <td>...</td>\n",
       "      <td>...</td>\n",
       "      <td>...</td>\n",
       "      <td>...</td>\n",
       "    </tr>\n",
       "    <tr>\n",
       "      <th>9926</th>\n",
       "      <td>4</td>\n",
       "      <td>9</td>\n",
       "      <td>3</td>\n",
       "      <td>2</td>\n",
       "      <td>150</td>\n",
       "      <td>7</td>\n",
       "      <td>21</td>\n",
       "      <td>236.39</td>\n",
       "      <td>2020-05-23 10:31:00</td>\n",
       "      <td>2020-11-09 20:34:00</td>\n",
       "      <td>21</td>\n",
       "      <td>0</td>\n",
       "      <td>1</td>\n",
       "      <td>170</td>\n",
       "    </tr>\n",
       "    <tr>\n",
       "      <th>9933</th>\n",
       "      <td>0</td>\n",
       "      <td>7</td>\n",
       "      <td>2</td>\n",
       "      <td>1</td>\n",
       "      <td>50</td>\n",
       "      <td>2</td>\n",
       "      <td>4</td>\n",
       "      <td>31.92</td>\n",
       "      <td>2020-05-08 19:18:00</td>\n",
       "      <td>2020-05-09 19:48:00</td>\n",
       "      <td>4</td>\n",
       "      <td>0</td>\n",
       "      <td>1</td>\n",
       "      <td>1</td>\n",
       "    </tr>\n",
       "    <tr>\n",
       "      <th>9960</th>\n",
       "      <td>6</td>\n",
       "      <td>10</td>\n",
       "      <td>3</td>\n",
       "      <td>2</td>\n",
       "      <td>200</td>\n",
       "      <td>2</td>\n",
       "      <td>2</td>\n",
       "      <td>40.00</td>\n",
       "      <td>2020-07-31 09:13:00</td>\n",
       "      <td>2020-08-31 09:30:00</td>\n",
       "      <td>2</td>\n",
       "      <td>0</td>\n",
       "      <td>1</td>\n",
       "      <td>31</td>\n",
       "    </tr>\n",
       "    <tr>\n",
       "      <th>9961</th>\n",
       "      <td>6</td>\n",
       "      <td>10</td>\n",
       "      <td>3</td>\n",
       "      <td>2</td>\n",
       "      <td>200</td>\n",
       "      <td>15</td>\n",
       "      <td>38</td>\n",
       "      <td>490.68</td>\n",
       "      <td>2020-05-03 13:10:00</td>\n",
       "      <td>2020-09-09 10:26:00</td>\n",
       "      <td>38</td>\n",
       "      <td>0</td>\n",
       "      <td>1</td>\n",
       "      <td>128</td>\n",
       "    </tr>\n",
       "    <tr>\n",
       "      <th>9966</th>\n",
       "      <td>2</td>\n",
       "      <td>8</td>\n",
       "      <td>2</td>\n",
       "      <td>1</td>\n",
       "      <td>100</td>\n",
       "      <td>28</td>\n",
       "      <td>52</td>\n",
       "      <td>448.66</td>\n",
       "      <td>2019-01-16 16:39:00</td>\n",
       "      <td>2020-05-09 20:02:00</td>\n",
       "      <td>52</td>\n",
       "      <td>0</td>\n",
       "      <td>1</td>\n",
       "      <td>479</td>\n",
       "    </tr>\n",
       "  </tbody>\n",
       "</table>\n",
       "<p>1060 rows × 14 columns</p>\n",
       "</div>"
      ],
      "text/plain": [
       "      USER_TYPE  MEMBER_TYPE  MEMBER_LEVEL  BASIC_LEVEL  SPENDING_LIMIT  \\\n",
       "2050          0            7             2            1              50   \n",
       "2799          2            8             2            1             100   \n",
       "7974          2            8             2            1             100   \n",
       "462           6           10             3            2             200   \n",
       "6823          2            8             2            1             100   \n",
       "...         ...          ...           ...          ...             ...   \n",
       "9926          4            9             3            2             150   \n",
       "9933          0            7             2            1              50   \n",
       "9960          6           10             3            2             200   \n",
       "9961          6           10             3            2             200   \n",
       "9966          2            8             2            1             100   \n",
       "\n",
       "      NUM_ORDERS  NUM_ITEMS  TOTAL_SPEND    FIRST_ORDER_DATE  \\\n",
       "2050          30         57       340.30 2018-10-10 10:54:00   \n",
       "2799           3          8        71.56 2020-03-08 19:17:00   \n",
       "7974           7         16       128.18 2020-11-04 13:25:00   \n",
       "462           17         59       772.00 2020-03-19 14:51:00   \n",
       "6823          51        118      1072.47 2017-08-27 11:07:00   \n",
       "...          ...        ...          ...                 ...   \n",
       "9926           7         21       236.39 2020-05-23 10:31:00   \n",
       "9933           2          4        31.92 2020-05-08 19:18:00   \n",
       "9960           2          2        40.00 2020-07-31 09:13:00   \n",
       "9961          15         38       490.68 2020-05-03 13:10:00   \n",
       "9966          28         52       448.66 2019-01-16 16:39:00   \n",
       "\n",
       "     MOST_RECENT_ORDER_DATE  NUM_OFFERS_USED  NUM_FAILED_ORDERS  CHURNED  \\\n",
       "2050    2020-09-19 22:59:00               53                  0        0   \n",
       "2799    2020-04-10 04:39:00                8                  0        0   \n",
       "7974    2020-11-09 15:06:00               15                  0        0   \n",
       "462     2020-05-10 10:50:00               59                  6        0   \n",
       "6823    2020-09-29 20:02:00              116                  0        0   \n",
       "...                     ...              ...                ...      ...   \n",
       "9926    2020-11-09 20:34:00               21                  0        1   \n",
       "9933    2020-05-09 19:48:00                4                  0        1   \n",
       "9960    2020-08-31 09:30:00                2                  0        1   \n",
       "9961    2020-09-09 10:26:00               38                  0        1   \n",
       "9966    2020-05-09 20:02:00               52                  0        1   \n",
       "\n",
       "      RECENCY  \n",
       "2050      710  \n",
       "2799       32  \n",
       "7974        5  \n",
       "462        51  \n",
       "6823     1129  \n",
       "...       ...  \n",
       "9926      170  \n",
       "9933        1  \n",
       "9960       31  \n",
       "9961      128  \n",
       "9966      479  \n",
       "\n",
       "[1060 rows x 14 columns]"
      ]
     },
     "execution_count": 149,
     "metadata": {},
     "output_type": "execute_result"
    }
   ],
   "source": [
    "test_under"
   ]
  },
  {
   "cell_type": "code",
   "execution_count": 150,
   "metadata": {},
   "outputs": [],
   "source": [
    "X_train, X_test, y_train, y_test = train_test_split(test_under[['USER_TYPE', 'MEMBER_TYPE', 'MEMBER_LEVEL', 'BASIC_LEVEL',\n",
    "                                                        'SPENDING_LIMIT', 'NUM_ORDERS', 'NUM_ITEMS', 'TOTAL_SPEND',\n",
    "                                                       'NUM_OFFERS_USED','NUM_FAILED_ORDERS','RECENCY']], test_under.CHURNED, test_size=0.33, random_state=42)"
   ]
  },
  {
   "cell_type": "code",
   "execution_count": 151,
   "metadata": {},
   "outputs": [],
   "source": [
    "from sklearn.ensemble import RandomForestClassifier\n",
    "rf = RandomForestClassifier()\n",
    "\n",
    "y_pred = rf.fit(X_train,y_train).predict(X_test)"
   ]
  },
  {
   "cell_type": "code",
   "execution_count": null,
   "metadata": {},
   "outputs": [],
   "source": []
  },
  {
   "cell_type": "code",
   "execution_count": 153,
   "metadata": {},
   "outputs": [
    {
     "name": "stdout",
     "output_type": "stream",
     "text": [
      "              precision    recall  f1-score   support\n",
      "\n",
      "           0       0.67      0.55      0.61       186\n",
      "           1       0.58      0.70      0.63       164\n",
      "\n",
      "    accuracy                           0.62       350\n",
      "   macro avg       0.63      0.62      0.62       350\n",
      "weighted avg       0.63      0.62      0.62       350\n",
      "\n"
     ]
    }
   ],
   "source": [
    "from sklearn.metrics import classification_report, accuracy_score, confusion_matrix\n",
    "\n",
    "print(classification_report(y_test,y_pred))"
   ]
  },
  {
   "cell_type": "code",
   "execution_count": 154,
   "metadata": {},
   "outputs": [
    {
     "name": "stdout",
     "output_type": "stream",
     "text": [
      "[[103  83]\n",
      " [ 50 114]]\n"
     ]
    }
   ],
   "source": [
    "print(confusion_matrix(y_test,y_pred))"
   ]
  },
  {
   "cell_type": "code",
   "execution_count": 157,
   "metadata": {},
   "outputs": [
    {
     "name": "stdout",
     "output_type": "stream",
     "text": [
      "Accuracy score is: 0.6171428571428571\n"
     ]
    }
   ],
   "source": [
    "from xgboost import XGBClassifier\n",
    "\n",
    "xgb_model = XGBClassifier().fit(X_train, y_train)\n",
    "\n",
    "# predict\n",
    "xgb_y_predict = xgb_model.predict(X_test)\n",
    "\n",
    "# accuracy score\n",
    "xgb_score = accuracy_score(xgb_y_predict, y_test)\n",
    "\n",
    "print('Accuracy score is:', xgb_score)"
   ]
  },
  {
   "cell_type": "code",
   "execution_count": 159,
   "metadata": {},
   "outputs": [
    {
     "name": "stdout",
     "output_type": "stream",
     "text": [
      "              precision    recall  f1-score   support\n",
      "\n",
      "           0       0.67      0.55      0.61       186\n",
      "           1       0.58      0.70      0.63       164\n",
      "\n",
      "    accuracy                           0.62       350\n",
      "   macro avg       0.63      0.62      0.62       350\n",
      "weighted avg       0.63      0.62      0.62       350\n",
      "\n"
     ]
    }
   ],
   "source": [
    "print(classification_report(y_test,y_pred))"
   ]
  },
  {
   "cell_type": "code",
   "execution_count": 160,
   "metadata": {},
   "outputs": [
    {
     "data": {
      "text/plain": [
       "array([[103,  83],\n",
       "       [ 50, 114]], dtype=int64)"
      ]
     },
     "execution_count": 160,
     "metadata": {},
     "output_type": "execute_result"
    }
   ],
   "source": [
    "confusion_matrix(y_test,y_pred)"
   ]
  },
  {
   "cell_type": "code",
   "execution_count": null,
   "metadata": {},
   "outputs": [],
   "source": []
  }
 ],
 "metadata": {
  "kernelspec": {
   "display_name": "Python 3",
   "language": "python",
   "name": "python3"
  },
  "language_info": {
   "codemirror_mode": {
    "name": "ipython",
    "version": 3
   },
   "file_extension": ".py",
   "mimetype": "text/x-python",
   "name": "python",
   "nbconvert_exporter": "python",
   "pygments_lexer": "ipython3",
   "version": "3.8.3"
  }
 },
 "nbformat": 4,
 "nbformat_minor": 4
}
